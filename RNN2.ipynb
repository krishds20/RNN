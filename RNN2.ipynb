{
  "nbformat": 4,
  "nbformat_minor": 0,
  "metadata": {
    "colab": {
      "provenance": [],
      "authorship_tag": "ABX9TyMqLk1srAF0votgGYI4PwcB",
      "include_colab_link": true
    },
    "kernelspec": {
      "name": "python3",
      "display_name": "Python 3"
    },
    "language_info": {
      "name": "python"
    }
  },
  "cells": [
    {
      "cell_type": "markdown",
      "metadata": {
        "id": "view-in-github",
        "colab_type": "text"
      },
      "source": [
        "<a href=\"https://colab.research.google.com/github/krishds20/RNN/blob/main/RNN2.ipynb\" target=\"_parent\"><img src=\"https://colab.research.google.com/assets/colab-badge.svg\" alt=\"Open In Colab\"/></a>"
      ]
    },
    {
      "cell_type": "code",
      "execution_count": null,
      "metadata": {
        "id": "4SI11kjkBDAE"
      },
      "outputs": [],
      "source": [
        "import pandas as pd\n",
        "import numpy as np\n",
        "import random"
      ]
    },
    {
      "cell_type": "code",
      "source": [
        "from sklearn.model_selection import train_test_split\n",
        "from sklearn.compose import ColumnTransformer\n",
        "from sklearn.preprocessing import OneHotEncoder,StandardScaler,LabelEncoder\n",
        "from sklearn.metrics import accuracy_score,precision_score,f1_score,recall_score"
      ],
      "metadata": {
        "id": "HakIlDA-BzML"
      },
      "execution_count": null,
      "outputs": []
    },
    {
      "cell_type": "code",
      "source": [
        "df=pd.read_csv('/content/sample_data/drug adverse reaction.csv')"
      ],
      "metadata": {
        "id": "sEBiVRwlBzH6"
      },
      "execution_count": null,
      "outputs": []
    },
    {
      "cell_type": "code",
      "source": [
        "df.info()"
      ],
      "metadata": {
        "colab": {
          "base_uri": "https://localhost:8080/"
        },
        "id": "NFhf6RmaBzGs",
        "outputId": "24872ce0-c2a9-4e11-8af2-324358b73ea7"
      },
      "execution_count": null,
      "outputs": [
        {
          "output_type": "stream",
          "name": "stdout",
          "text": [
            "<class 'pandas.core.frame.DataFrame'>\n",
            "RangeIndex: 7386 entries, 0 to 7385\n",
            "Data columns (total 11 columns):\n",
            " #   Column                Non-Null Count  Dtype  \n",
            "---  ------                --------------  -----  \n",
            " 0   age                   7386 non-null   int64  \n",
            " 1   sex                   7386 non-null   object \n",
            " 2   height_cm             7386 non-null   float64\n",
            " 3   weight_kg             7386 non-null   float64\n",
            " 4   BMI                   7386 non-null   float64\n",
            " 5   medical_history       5927 non-null   object \n",
            " 6   drug_name             7386 non-null   object \n",
            " 7   condition             7386 non-null   object \n",
            " 8   dosage_mg             7386 non-null   int64  \n",
            " 9   side_effect           6332 non-null   object \n",
            " 10  side_effect_severity  6332 non-null   object \n",
            "dtypes: float64(3), int64(2), object(6)\n",
            "memory usage: 634.9+ KB\n"
          ]
        }
      ]
    },
    {
      "cell_type": "code",
      "source": [
        "df['side_effect']=df['side_effect'].fillna('No Side Efffect')"
      ],
      "metadata": {
        "id": "-NQhCoE_BzFX"
      },
      "execution_count": null,
      "outputs": []
    },
    {
      "cell_type": "code",
      "source": [
        "features=['age','sex','height_cm','weight_kg','BMI','medical_history','drug_name','dosage_mg']\n",
        "x=df[features]\n",
        "y=df['side_effect']"
      ],
      "metadata": {
        "id": "IEzgR52XBzBm"
      },
      "execution_count": null,
      "outputs": []
    },
    {
      "cell_type": "code",
      "source": [
        "le=LabelEncoder()\n",
        "y_encoded=le.fit_transform(y)"
      ],
      "metadata": {
        "id": "ITWSJdNXBy_6"
      },
      "execution_count": null,
      "outputs": []
    },
    {
      "cell_type": "code",
      "source": [
        "num_features=['age','height_cm','weight_kg','BMI','dosage_mg']\n",
        "cat_features=['sex','medical_history','drug_name']"
      ],
      "metadata": {
        "id": "3h1WDSn5By-C"
      },
      "execution_count": null,
      "outputs": []
    },
    {
      "cell_type": "code",
      "source": [
        "preprocessor=ColumnTransformer(\n",
        "    transformers=[\n",
        "        ('num',StandardScaler(),num_features),\n",
        "        ('cat',OneHotEncoder(handle_unknown='ignore'),cat_features)\n",
        "    ]\n",
        ")"
      ],
      "metadata": {
        "id": "2y33d-JeBy7B"
      },
      "execution_count": null,
      "outputs": []
    },
    {
      "cell_type": "code",
      "source": [
        "X_transformed=preprocessor.fit_transform(x)\n"
      ],
      "metadata": {
        "id": "om3ZF_gYCBPA"
      },
      "execution_count": null,
      "outputs": []
    },
    {
      "cell_type": "code",
      "source": [
        "x_train,x_test,y_train,y_test=train_test_split(X_transformed,y_encoded,test_size=0.2,random_state=42)"
      ],
      "metadata": {
        "id": "MnE-esnOCBLp"
      },
      "execution_count": null,
      "outputs": []
    },
    {
      "cell_type": "code",
      "source": [
        "if hasattr(x_train,'toarray'):\n",
        "  x_train_nn=x_train.toarray()\n",
        "  x_test_nn=x_test.toarray()\n",
        "else:\n",
        "  x_train_nn=x_train\n",
        "  x_test_nn=x_test"
      ],
      "metadata": {
        "id": "JksQdYj9CBJX"
      },
      "execution_count": null,
      "outputs": []
    },
    {
      "cell_type": "code",
      "source": [
        "x_train_nn=np.array(x_train_nn)\n",
        "x_test_nn=np.array(x_test_nn)\n",
        "x_train_nn=x_train_nn.reshape(x_train_nn.shape[0],x_train_nn.shape[1],1)\n",
        "x_test_nn=x_test_nn.reshape(x_test_nn.shape[0],x_test_nn.shape[1],1)\n",
        "input_shape=(x_train_nn.shape[1],1)"
      ],
      "metadata": {
        "id": "lrfVzLh6CBGx"
      },
      "execution_count": null,
      "outputs": []
    },
    {
      "cell_type": "code",
      "source": [
        "import tensorflow as tf\n",
        "num_classes=len(le.classes_)\n",
        "y_train_cat=tf.keras.utils.to_categorical(y_train,num_classes)\n",
        "y_test_cat=tf.keras.utils.to_categorical(y_test,num_classes)"
      ],
      "metadata": {
        "id": "7cK1B3QACONU"
      },
      "execution_count": null,
      "outputs": []
    },
    {
      "cell_type": "code",
      "source": [
        "from tensorflow.keras.models import Sequential\n",
        "from tensorflow.keras.layers import Conv1D,Flatten,Dense\n",
        "from tensorflow.keras.callbacks import EarlyStopping"
      ],
      "metadata": {
        "id": "KNlx0P1VCOJ3"
      },
      "execution_count": null,
      "outputs": []
    },
    {
      "cell_type": "code",
      "source": [
        "from tensorflow.keras.layers import LSTM\n",
        "\n",
        "rnn_model = Sequential([\n",
        "    LSTM(32, input_shape=input_shape),\n",
        "    Dense(64, activation='relu'),\n",
        "    Dense(num_classes, activation='softmax')\n",
        "])"
      ],
      "metadata": {
        "id": "8C-K5JKnCV5Q",
        "colab": {
          "base_uri": "https://localhost:8080/"
        },
        "outputId": "79537d7b-4bc1-425b-ad08-a5f770f4704d"
      },
      "execution_count": null,
      "outputs": [
        {
          "output_type": "stream",
          "name": "stderr",
          "text": [
            "/usr/local/lib/python3.11/dist-packages/keras/src/layers/rnn/rnn.py:200: UserWarning: Do not pass an `input_shape`/`input_dim` argument to a layer. When using Sequential models, prefer using an `Input(shape)` object as the first layer in the model instead.\n",
            "  super().__init__(**kwargs)\n"
          ]
        }
      ]
    },
    {
      "cell_type": "code",
      "source": [
        "rnn_model.compile(optimizer='adam', loss='categorical_crossentropy', metrics=['accuracy'])\n",
        "print(\"\\nTraining RNN model for multi-class side effect prediction...\")\n",
        "rnn_model.fit(x_train_nn, y_train_cat, epochs=15, batch_size=32,\n",
        "              validation_split=0.2, verbose=1,\n",
        "              callbacks=[EarlyStopping(monitor='val_loss', patience=3, restore_best_weights=True)])"
      ],
      "metadata": {
        "colab": {
          "base_uri": "https://localhost:8080/"
        },
        "id": "U8r2liwNDP8r",
        "outputId": "ba3ab0c4-835b-48fb-b54c-68862ae91ded"
      },
      "execution_count": null,
      "outputs": [
        {
          "output_type": "stream",
          "name": "stdout",
          "text": [
            "\n",
            "Training RNN model for multi-class side effect prediction...\n",
            "Epoch 1/15\n",
            "\u001b[1m148/148\u001b[0m \u001b[32m━━━━━━━━━━━━━━━━━━━━\u001b[0m\u001b[37m\u001b[0m \u001b[1m8s\u001b[0m 32ms/step - accuracy: 0.1396 - loss: 3.5876 - val_accuracy: 0.1396 - val_loss: 3.2726\n",
            "Epoch 2/15\n",
            "\u001b[1m148/148\u001b[0m \u001b[32m━━━━━━━━━━━━━━━━━━━━\u001b[0m\u001b[37m\u001b[0m \u001b[1m4s\u001b[0m 25ms/step - accuracy: 0.1379 - loss: 3.2752 - val_accuracy: 0.1396 - val_loss: 3.2715\n",
            "Epoch 3/15\n",
            "\u001b[1m148/148\u001b[0m \u001b[32m━━━━━━━━━━━━━━━━━━━━\u001b[0m\u001b[37m\u001b[0m \u001b[1m5s\u001b[0m 31ms/step - accuracy: 0.1404 - loss: 3.2793 - val_accuracy: 0.1396 - val_loss: 3.2790\n",
            "Epoch 4/15\n",
            "\u001b[1m148/148\u001b[0m \u001b[32m━━━━━━━━━━━━━━━━━━━━\u001b[0m\u001b[37m\u001b[0m \u001b[1m6s\u001b[0m 38ms/step - accuracy: 0.1454 - loss: 3.2674 - val_accuracy: 0.1396 - val_loss: 3.2725\n",
            "Epoch 5/15\n",
            "\u001b[1m148/148\u001b[0m \u001b[32m━━━━━━━━━━━━━━━━━━━━\u001b[0m\u001b[37m\u001b[0m \u001b[1m6s\u001b[0m 38ms/step - accuracy: 0.1427 - loss: 3.2581 - val_accuracy: 0.1396 - val_loss: 3.2612\n",
            "Epoch 6/15\n",
            "\u001b[1m148/148\u001b[0m \u001b[32m━━━━━━━━━━━━━━━━━━━━\u001b[0m\u001b[37m\u001b[0m \u001b[1m8s\u001b[0m 24ms/step - accuracy: 0.1426 - loss: 3.2542 - val_accuracy: 0.1396 - val_loss: 3.2186\n",
            "Epoch 7/15\n",
            "\u001b[1m148/148\u001b[0m \u001b[32m━━━━━━━━━━━━━━━━━━━━\u001b[0m\u001b[37m\u001b[0m \u001b[1m3s\u001b[0m 23ms/step - accuracy: 0.1436 - loss: 3.1447 - val_accuracy: 0.1387 - val_loss: 2.8501\n",
            "Epoch 8/15\n",
            "\u001b[1m148/148\u001b[0m \u001b[32m━━━━━━━━━━━━━━━━━━━━\u001b[0m\u001b[37m\u001b[0m \u001b[1m6s\u001b[0m 29ms/step - accuracy: 0.1502 - loss: 2.7706 - val_accuracy: 0.1582 - val_loss: 2.6210\n",
            "Epoch 9/15\n",
            "\u001b[1m148/148\u001b[0m \u001b[32m━━━━━━━━━━━━━━━━━━━━\u001b[0m\u001b[37m\u001b[0m \u001b[1m3s\u001b[0m 23ms/step - accuracy: 0.1573 - loss: 2.5889 - val_accuracy: 0.1404 - val_loss: 2.4871\n",
            "Epoch 10/15\n",
            "\u001b[1m148/148\u001b[0m \u001b[32m━━━━━━━━━━━━━━━━━━━━\u001b[0m\u001b[37m\u001b[0m \u001b[1m3s\u001b[0m 22ms/step - accuracy: 0.1793 - loss: 2.4776 - val_accuracy: 0.1904 - val_loss: 2.4120\n",
            "Epoch 11/15\n",
            "\u001b[1m148/148\u001b[0m \u001b[32m━━━━━━━━━━━━━━━━━━━━\u001b[0m\u001b[37m\u001b[0m \u001b[1m6s\u001b[0m 28ms/step - accuracy: 0.1755 - loss: 2.4102 - val_accuracy: 0.1701 - val_loss: 2.3799\n",
            "Epoch 12/15\n",
            "\u001b[1m148/148\u001b[0m \u001b[32m━━━━━━━━━━━━━━━━━━━━\u001b[0m\u001b[37m\u001b[0m \u001b[1m3s\u001b[0m 22ms/step - accuracy: 0.2124 - loss: 2.3353 - val_accuracy: 0.1946 - val_loss: 2.3074\n",
            "Epoch 13/15\n",
            "\u001b[1m148/148\u001b[0m \u001b[32m━━━━━━━━━━━━━━━━━━━━\u001b[0m\u001b[37m\u001b[0m \u001b[1m5s\u001b[0m 23ms/step - accuracy: 0.1942 - loss: 2.3012 - val_accuracy: 0.1912 - val_loss: 2.2604\n",
            "Epoch 14/15\n",
            "\u001b[1m148/148\u001b[0m \u001b[32m━━━━━━━━━━━━━━━━━━━━\u001b[0m\u001b[37m\u001b[0m \u001b[1m6s\u001b[0m 41ms/step - accuracy: 0.2221 - loss: 2.2456 - val_accuracy: 0.2073 - val_loss: 2.2251\n",
            "Epoch 15/15\n",
            "\u001b[1m148/148\u001b[0m \u001b[32m━━━━━━━━━━━━━━━━━━━━\u001b[0m\u001b[37m\u001b[0m \u001b[1m4s\u001b[0m 27ms/step - accuracy: 0.2148 - loss: 2.2057 - val_accuracy: 0.2030 - val_loss: 2.1839\n"
          ]
        },
        {
          "output_type": "execute_result",
          "data": {
            "text/plain": [
              "<keras.src.callbacks.history.History at 0x7ee27245b950>"
            ]
          },
          "metadata": {},
          "execution_count": 18
        }
      ]
    },
    {
      "cell_type": "code",
      "source": [
        "rnn_loss, rnn_accuracy = rnn_model.evaluate(x_test_nn, y_test_cat, verbose=0)\n",
        "print(f\"\\nRNN Model Accuracy: {rnn_accuracy:.4f}\")"
      ],
      "metadata": {
        "colab": {
          "base_uri": "https://localhost:8080/"
        },
        "id": "uhRbtWCxDP5O",
        "outputId": "0a59e43a-41ae-451e-a426-a974546bcf19"
      },
      "execution_count": null,
      "outputs": [
        {
          "output_type": "stream",
          "name": "stdout",
          "text": [
            "\n",
            "RNN Model Accuracy: 0.2226\n"
          ]
        }
      ]
    },
    {
      "cell_type": "code",
      "source": [
        "y_pred_rnn = rnn_model.predict(x_test_nn)\n",
        "y_pred_rnn_labels = np.argmax(y_pred_rnn, axis=1)\n",
        "print(\"\\nRNN Model Metrics:\")\n",
        "print(\"Accuracy:\", accuracy_score(y_test, y_pred_rnn_labels))\n",
        "print(\"Precision:\", precision_score(y_test, y_pred_rnn_labels, average='weighted'))\n",
        "print(\"Recall:\", recall_score(y_test, y_pred_rnn_labels, average='weighted'))\n",
        "print(\"F1 Score:\", f1_score(y_test, y_pred_rnn_labels, average='weighted'))"
      ],
      "metadata": {
        "id": "5aqo1HIwDWav"
      },
      "execution_count": null,
      "outputs": []
    },
    {
      "cell_type": "code",
      "source": [
        "#making prediction\n",
        "new_data = {\n",
        "    'age': [30],\n",
        "    'sex': ['Female'],\n",
        "    'height_cm': [160],\n",
        "    'weight_kg': [55],\n",
        "    'BMI': [21.5],\n",
        "    'medical_history': ['Diabetes'],\n",
        "    'drug_name': ['Zolpidem'],\n",
        "    'condition': ['Insomnia'],\n",
        "    'dosage_mg': [100],\n",
        "}"
      ],
      "metadata": {
        "id": "o-XgE5AYDjf1"
      },
      "execution_count": null,
      "outputs": []
    },
    {
      "cell_type": "code",
      "source": [
        "new_df = pd.DataFrame(new_data)\n",
        "new_data_transformed = preprocessor.transform(new_df)"
      ],
      "metadata": {
        "id": "vsfJCE1QDjcQ"
      },
      "execution_count": null,
      "outputs": []
    },
    {
      "cell_type": "code",
      "source": [
        "if hasattr(new_data_transformed, \"toarray\"):\n",
        "    new_data_transformed = new_data_transformed.toarray()\n",
        "new_data_nn = np.array(new_data_transformed)\n",
        "# Reshape into (samples, timesteps, channels)\n",
        "new_data_nn = new_data_nn.reshape(new_data_nn.shape[0], new_data_nn.shape[1], 1)"
      ],
      "metadata": {
        "id": "M6ImmCbDD0Mg"
      },
      "execution_count": null,
      "outputs": []
    },
    {
      "cell_type": "code",
      "source": [
        "rnn_pred_prob = rnn_model.predict(new_data_nn)\n",
        "rnn_pred_index = np.argmax(rnn_pred_prob, axis=1)\n",
        "rnn_pred_label = le.inverse_transform(rnn_pred_index)\n",
        "print(\"RNN Prediction:\", rnn_pred_label[0])"
      ],
      "metadata": {
        "colab": {
          "base_uri": "https://localhost:8080/"
        },
        "id": "9mHo3SIzDjZu",
        "outputId": "3345c643-25c6-46c6-cb33-cf4726f2a36a"
      },
      "execution_count": null,
      "outputs": [
        {
          "output_type": "stream",
          "name": "stdout",
          "text": [
            "\u001b[1m1/1\u001b[0m \u001b[32m━━━━━━━━━━━━━━━━━━━━\u001b[0m\u001b[37m\u001b[0m \u001b[1m0s\u001b[0m 414ms/step\n",
            "RNN Prediction: dizziness\n"
          ]
        }
      ]
    }
  ]
}